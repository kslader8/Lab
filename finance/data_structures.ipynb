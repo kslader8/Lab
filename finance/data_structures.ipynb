{
 "cells": [
  {
   "cell_type": "markdown",
   "metadata": {},
   "source": [
    "### PCA Weights"
   ]
  },
  {
   "cell_type": "code",
   "execution_count": 1,
   "metadata": {},
   "outputs": [],
   "source": [
    "def pca_weights(cov, risk_dist=None, risk_target=1.0):\n",
    "    # Following the risk allocation distribution, match risk_target\n",
    "    \n",
    "    e_val, e_vec = np.linalg.eigh(cov) # must be Hermitian\n",
    "    indices = e_val.argsort()[::-1] # arguments for sorting e_val desc\n",
    "    e_val, e_vec = e_val[indices], e_vec[:,indices]\n",
    "    \n",
    "    if risk_dist is None:\n",
    "        risk_dist = np.zeros(cov.shape[0])\n",
    "        risk_dist[-1] = 1.0\n",
    "    loads = risk_target*(risk_dist/e_val)**0.5\n",
    "    wghts = np.dot(e_vec, np.reshape(loads, (-1, 1)))\n",
    "    # ctr = (loads/risk_target)**2*e_val # verify risk_dist\n",
    "    \n",
    "    return wghts"
   ]
  },
  {
   "cell_type": "markdown",
   "metadata": {},
   "source": [
    "### Future Rolling"
   ]
  },
  {
   "cell_type": "code",
   "execution_count": 2,
   "metadata": {},
   "outputs": [],
   "source": [
    "def roll_gaps(series):\n",
    "    pass\n",
    "    # TODO \n",
    "\n",
    "def get_rolled_series(path_in, key):\n",
    "    series = pd.read_hdf(path_in, key='bars/ES_10k')\n",
    "    series['Time'] = pd.to_datetime(series['Time'], format='%Y%m%d%H%M%S%f')\n",
    "    series = series.set_index('Time')\n",
    "    gaps = roll_gaps(seires)\n",
    "    for fld in ['Close', 'VWAP']: series[fld]-=gaps\n",
    "        \n",
    "    return series"
   ]
  },
  {
   "cell_type": "code",
   "execution_count": null,
   "metadata": {},
   "outputs": [],
   "source": []
  }
 ],
 "metadata": {
  "kernelspec": {
   "display_name": "Python 3",
   "language": "python",
   "name": "python3"
  },
  "language_info": {
   "codemirror_mode": {
    "name": "ipython",
    "version": 3
   },
   "file_extension": ".py",
   "mimetype": "text/x-python",
   "name": "python",
   "nbconvert_exporter": "python",
   "pygments_lexer": "ipython3",
   "version": "3.6.4"
  }
 },
 "nbformat": 4,
 "nbformat_minor": 2
}
