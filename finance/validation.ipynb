{
 "cells": [
  {
   "cell_type": "code",
   "execution_count": null,
   "metadata": {},
   "outputs": [],
   "source": []
  },
  {
   "cell_type": "code",
   "execution_count": 10,
   "metadata": {},
   "outputs": [],
   "source": [
    "import pandas as pd\n",
    "import numpy as np\n",
    "import sklearn"
   ]
  },
  {
   "cell_type": "code",
   "execution_count": 2,
   "metadata": {},
   "outputs": [],
   "source": [
    "def get_train_times(t1, test_times):\n",
    "    \"\"\"\n",
    "    \n",
    "    \"\"\"\n",
    "    \n",
    "    trn=t1.copy(deep=True)\n",
    "    for i, j in test_times.iteritems():\n",
    "        df0 = trn[(i<=trn.index) & (trn.index<=j)].index # train starts within test\n",
    "        df1 = trn[(i<=trn) & (trn<=j)].index # train ends within test\n",
    "        df2 = trn[(trn.index<=i) & (j<=trn)]\n",
    "        trn = trn.drop(df0.union(df1).union(df2))\n",
    "    \n",
    "    return trn"
   ]
  },
  {
   "cell_type": "code",
   "execution_count": 3,
   "metadata": {},
   "outputs": [],
   "source": [
    "def get_embargo_times(times, pct_embargo):\n",
    "    \n",
    "    # get embargo time for each bar\n",
    "    \n",
    "    step = int(times.shape[0]*pct_embargo)\n",
    "    if step==0:\n",
    "        mbrg=pd.Series(times, index=times)\n",
    "    else:\n",
    "        mbrg=pd.Series(times[step:], index=times[:-step])\n",
    "        mbrg=mbrg.append(pd.Series(times(times[-1], index=times[-step:])))\n",
    "    \n",
    "    return mbrg\n",
    "\n",
    "        "
   ]
  },
  {
   "cell_type": "code",
   "execution_count": 13,
   "metadata": {},
   "outputs": [],
   "source": [
    "from sklearn.model_selection._split import _BaseKFold\n",
    "\n",
    "class PurgedKFold(_BaseKFold):\n",
    "    \"\"\"\n",
    "    \n",
    "    \"\"\"\n",
    "    \n",
    "    def __init__(self, n_splits=3, t1=None, pct_embargo=0.0):\n",
    "        if not isinstance(t1, pd.Series):\n",
    "            raise ValueError('Label Through dates must be a pd.Series')\n",
    "        super(PurgedKFold, self).__init__(n_splits, shuffle=False, random_state=None)\n",
    "        self.t1=t1\n",
    "        self.pct_embargo=pct_embargo\n",
    "        \n",
    "    def split(self, X, y=None, groups=None):\n",
    "        if (X.index==self.t1.index).sum() != len(self.t1):\n",
    "            raise ValueError('X and ThruDateValues must have the same index')\n",
    "        indices = np.arange(X.shape[0])\n",
    "        mbrg = int(X.shape[0] * self.pct_embargo)\n",
    "        test_starts = [(i[0], i[-1] + 1) for i in np.array_split(np.arange(X.shape[0]), self.n_splits)]\n",
    "        \n",
    "        for i, j in test_starts:\n",
    "            t0 = self.t1.index[i] # start of test set\n",
    "            test_indices = indices[i:j]\n",
    "            max_t1_idx = self.t1.index.searchsorted(self.t1[test_indices].max())\n",
    "            train_indices = self.t1.index.searchsorted(self.t1[self.t1<=t0].index)\n",
    "            if max_t1_idx < X.shape[0]: # right train (with embargo)\n",
    "                train_indices = np.concatenate((train_indices, indices[max_t1_idx + mbrg:]))\n",
    "            yield train_indices, test_indices\n",
    "        \n",
    "                "
   ]
  },
  {
   "cell_type": "markdown",
   "metadata": {},
   "source": [
    "https://github.com/scikit-learn/scikit-learn/issues/6231"
   ]
  },
  {
   "cell_type": "code",
   "execution_count": null,
   "metadata": {},
   "outputs": [],
   "source": []
  }
 ],
 "metadata": {
  "kernelspec": {
   "display_name": "Python 3",
   "language": "python",
   "name": "python3"
  },
  "language_info": {
   "codemirror_mode": {
    "name": "ipython",
    "version": 3
   },
   "file_extension": ".py",
   "mimetype": "text/x-python",
   "name": "python",
   "nbconvert_exporter": "python",
   "pygments_lexer": "ipython3",
   "version": "3.6.4"
  }
 },
 "nbformat": 4,
 "nbformat_minor": 2
}
