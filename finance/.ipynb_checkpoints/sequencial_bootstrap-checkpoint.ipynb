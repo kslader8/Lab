{
 "cells": [
  {
   "cell_type": "markdown",
   "metadata": {},
   "source": [
    "## Python 3 Notebook\n",
    "### Libraries Used"
   ]
  },
  {
   "cell_type": "code",
   "execution_count": 2,
   "metadata": {},
   "outputs": [],
   "source": [
    "import pandas as pd\n",
    "import numpy as np"
   ]
  },
  {
   "cell_type": "markdown",
   "metadata": {},
   "source": [
    "### Configuration Used"
   ]
  },
  {
   "cell_type": "code",
   "execution_count": 10,
   "metadata": {},
   "outputs": [],
   "source": [
    "from IPython.core.interactiveshell import InteractiveShell\n",
    "InteractiveShell.ast_node_interactivity = \"all\""
   ]
  },
  {
   "cell_type": "markdown",
   "metadata": {},
   "source": [
    "### Estimate the Uniqueness"
   ]
  },
  {
   "cell_type": "code",
   "execution_count": 4,
   "metadata": {},
   "outputs": [],
   "source": [
    "def mp_num_co_events(close_idx, t1, molecule):\n",
    "    \n",
    "    # find events that span the period\n",
    "    t1 = f1.fillna(close_idx[-1]) # unclosed events must still impact other weights\n",
    "    t1 = t1[t1>=molecule[0]] # events that end at or after molecule[0]\n",
    "    t1 = t1.loc[:tl[molecule].max()] # events that start at or before t1[molecule].max()\n",
    "    \n",
    "    # count events spanning a bar\n",
    "    iloc = close_idx.searchsorted(np.array([t1.index[0], t1.max()]))\n",
    "    count = pd.Series(0, index=close_idx[iloc[0]:iloc[1]+1])\n",
    "    for t_in, t_out in t1.iteritems():\n",
    "        count.loc[t_in:t_out]+=1.0\n",
    "    \n",
    "    return count.loc[molecule[0]:t1[molecule].max()]"
   ]
  },
  {
   "cell_type": "markdown",
   "metadata": {},
   "source": [
    "### Estimate the Average Uniqueness"
   ]
  },
  {
   "cell_type": "code",
   "execution_count": 5,
   "metadata": {},
   "outputs": [],
   "source": [
    "def mp_sample_tw(t1, num_co_events, molecule):\n",
    "    \n",
    "    # derive average uniqueness over the events lifespan\n",
    "    wght = pd.Series(index=molecule)\n",
    "    for t_in, t_out in t1.loc[wght.index].iteritems():\n",
    "        wght.loc[t_in]=(1./num_co_events.loc[t_in:t_out]).mean()\n",
    "    \n",
    "    return wght"
   ]
  },
  {
   "cell_type": "code",
   "execution_count": 6,
   "metadata": {},
   "outputs": [],
   "source": [
    "# Need a mp_pandas_obj here to test"
   ]
  },
  {
   "cell_type": "code",
   "execution_count": null,
   "metadata": {},
   "outputs": [],
   "source": []
  },
  {
   "cell_type": "markdown",
   "metadata": {},
   "source": [
    "### Build a Indicator Matrix"
   ]
  },
  {
   "cell_type": "code",
   "execution_count": 7,
   "metadata": {},
   "outputs": [],
   "source": [
    "def get_ind_matrix(bar_ix, t1):\n",
    "    \"\"\"\n",
    "        get indicator matrix\n",
    "    \"\"\"\n",
    "    \n",
    "    ind_m = pd.DataFrame(0, index=bar_ix, columns=range(t1.shape[0]))\n",
    "    for i, (t0, t1) in enumerate(t1.iteritems()):\n",
    "        ind_m.loc[t0:t1, i]=1\n",
    "        \n",
    "    return ind_m"
   ]
  },
  {
   "cell_type": "markdown",
   "metadata": {},
   "source": [
    "### Compute Average Uniqueness"
   ]
  },
  {
   "cell_type": "code",
   "execution_count": 8,
   "metadata": {},
   "outputs": [],
   "source": [
    "def get_avg_uniqueness(ind_m):\n",
    "    \"\"\"\n",
    "        average uniqueness from indicator matrix\n",
    "    \"\"\"\n",
    "    \n",
    "    c = ind_m.sum(axis=1) # concurrency\n",
    "    u = ind_m.div(c, axis=0) # uniqueness\n",
    "    avg_u = u[u>0].mean() # average uniqueness\n",
    "    \n",
    "    return avg_u"
   ]
  },
  {
   "cell_type": "markdown",
   "metadata": {},
   "source": [
    "### Return Sample From Sequential Bootstrap"
   ]
  },
  {
   "cell_type": "code",
   "execution_count": 18,
   "metadata": {},
   "outputs": [],
   "source": [
    "def seq_bootstrap(ind_m, s_len=None):\n",
    "    \"\"\"\n",
    "        generate a sample via sequential bootstrap \n",
    "    \"\"\"\n",
    "    \n",
    "    if s_len is None: s_len=ind_m.shape[1]\n",
    "    phi=[]\n",
    "    \n",
    "    while len(phi)< s_len:\n",
    "        avg_u=pd.Series()\n",
    "        for i in ind_m:\n",
    "            ind_m_ = ind_m[phi+[i]] # reduce ind_m\n",
    "            avg_u.loc[i]=get_avg_uniqueness(ind_m_).iloc[-1]\n",
    "        prob=avg_u/avg_u.sum() # draw prob\n",
    "        phi+=[np.random.choice(ind_m.columns, p=prob)]\n",
    "        \n",
    "    return phi"
   ]
  },
  {
   "cell_type": "markdown",
   "metadata": {},
   "source": [
    "### Example of Sequential Bootsrap"
   ]
  },
  {
   "cell_type": "code",
   "execution_count": 25,
   "metadata": {},
   "outputs": [
    {
     "data": {
      "text/plain": [
       "'phi: [2 2 1]'"
      ]
     },
     "execution_count": 25,
     "metadata": {},
     "output_type": "execute_result"
    },
    {
     "data": {
      "text/plain": [
       "'standard uniqueness: 0.6666666666666666'"
      ]
     },
     "execution_count": 25,
     "metadata": {},
     "output_type": "execute_result"
    },
    {
     "data": {
      "text/plain": [
       "'phi: [0, 2, 1]'"
      ]
     },
     "execution_count": 25,
     "metadata": {},
     "output_type": "execute_result"
    },
    {
     "data": {
      "text/plain": [
       "'sequential uniqueness: 0.8611111111111112'"
      ]
     },
     "execution_count": 25,
     "metadata": {},
     "output_type": "execute_result"
    }
   ],
   "source": [
    "t1 = pd.Series([2,3,5], index=[0,2,4]) # for each feature obs\n",
    "bar_ix = range(t1.max()+1) # index of bars\n",
    "\n",
    "ind_m = get_ind_matrix(bar_ix, t1)\n",
    "phi = np.random.choice(ind_m.columns, size=ind_m.shape[1])\n",
    "\n",
    "f\"phi: {phi}\"\n",
    "\n",
    "avg_u = get_avg_uniqueness(ind_m[phi]).mean()\n",
    "phi = seq_bootstrap(ind_m)\n",
    "\n",
    "f\"standard uniqueness: {avg_u}\"\n",
    "f\"phi: {phi}\"\n",
    "\n",
    "seq_u = get_avg_uniqueness(ind_m[phi]).mean()\n",
    "\n",
    "f\"sequential uniqueness: {seq_u}\""
   ]
  },
  {
   "cell_type": "code",
   "execution_count": null,
   "metadata": {},
   "outputs": [],
   "source": []
  },
  {
   "cell_type": "code",
   "execution_count": null,
   "metadata": {},
   "outputs": [],
   "source": []
  }
 ],
 "metadata": {
  "kernelspec": {
   "display_name": "Python 3",
   "language": "python",
   "name": "python3"
  },
  "language_info": {
   "codemirror_mode": {
    "name": "ipython",
    "version": 3
   },
   "file_extension": ".py",
   "mimetype": "text/x-python",
   "name": "python",
   "nbconvert_exporter": "python",
   "pygments_lexer": "ipython3",
   "version": "3.6.4"
  }
 },
 "nbformat": 4,
 "nbformat_minor": 2
}
