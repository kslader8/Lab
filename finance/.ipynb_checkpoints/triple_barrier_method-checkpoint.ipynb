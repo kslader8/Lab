{
 "cells": [
  {
   "cell_type": "markdown",
   "metadata": {},
   "source": [
    "## Python 3 Notebook\n",
    "### Libraries Used"
   ]
  },
  {
   "cell_type": "code",
   "execution_count": 1,
   "metadata": {},
   "outputs": [],
   "source": [
    "import pandas as pd"
   ]
  },
  {
   "cell_type": "markdown",
   "metadata": {},
   "source": [
    "### Daily Volatility Estimates"
   ]
  },
  {
   "cell_type": "code",
   "execution_count": 2,
   "metadata": {},
   "outputs": [],
   "source": [
    "def get_daily_vol(close, span=100):\n",
    "    \"\"\"\n",
    "    computes the daily volatility at intraday estimation points applying\n",
    "    a 'span' of days to an exponentionally weighted moving standard deviation\n",
    "    \n",
    "    Args:\n",
    "    \n",
    "    Returns:\n",
    "    \n",
    "    \"\"\"\n",
    "    \n",
    "    # daily vol, reindex to close\n",
    "    df0 = close.index.searchsorted(close.index-pd.Timedelta(days=1))\n",
    "    df0 = df0[df0>0]\n",
    "    df0 = pd.Series(close.index[df0-1], index=close.index[close.shape[0]-df0.shape[0]:])\n",
    "    df0 = close.loc[df0.index]/close.loc[df0.values].values-1 # daily returns\n",
    "    df0 = df0.ewm(span=span).std()\n",
    "    return df0"
   ]
  },
  {
   "cell_type": "markdown",
   "metadata": {},
   "source": [
    "## Three Barrier Method\n",
    "- Profit Taking, Stop Loss, and Time Limit"
   ]
  },
  {
   "cell_type": "code",
   "execution_count": null,
   "metadata": {},
   "outputs": [],
   "source": [
    "def apply_pt_sl_on_tl(close, events, pt_sl, molecule):\n",
    "    \"\"\"\n",
    "    apply profit taking / stop loss if it takes place before time limit\n",
    "    \n",
    "    Args:\n",
    "        close (series): a pandas series of prices\n",
    "        events (dataframe[['tl', 'trgt']]): a dataframe with horizontal and vertival barriers defined\n",
    "        pt_sl (list): a list of two non-negative float values\n",
    "        molecule (list): a list with the subset of event indices that will be processed by a single thread\n",
    "\n",
    "    Returns:\n",
    "        \n",
    "    \n",
    "    \"\"\"\n",
    "    \n",
    "    events_ = events.loc[molecule]\n",
    "    out = events_[['tl']].copy(deep=True)\n",
    "    \n",
    "    if pt_sl[0]>0:pt=pt_sl[0]*events_['trgt']\n",
    "    else:pt=pd.Series(index=events.index) # NaNs\n",
    "\n",
    "def apply_pt_sl_on_tl(close, events, pt_sl, molecule):\n",
    "    \"\"\"\n",
    "    apply profit taking / stop loss if it takes place before time limit\n",
    "    \n",
    "    Args:\n",
    "        close (series): a pandas series of prices\n",
    "        events (dataframe[['tl', 'trgt']]): a dataframe with horizontal and vertival barriers defined\n",
    "        pt_sl (list): a list of two non-negative float values\n",
    "        molecule (list): a list with the subset of event indices that will be processed by a single thread\n",
    "\n",
    "    Returns:\n",
    "        \n",
    "    \n",
    "    \"\"\"\n",
    "    \n",
    "    events_ = events.loc[molecule]\n",
    "    out = events_[['tl']].copy(deep=True)\n",
    "    \n",
    "    if pt_sl[0]>0:pt=pt_sl[0]*events_['trgt']\n",
    "    else:pt=pd.Series(index=events.index) # NaNs\n",
    "        \n",
    "    if pt_sl[1]>0:sl=-pt_sl[0]*events_['trgt']\n",
    "    else:sl=pd.Series(index=events.index) # NaNs    \n",
    "        \n",
    "    for loc, tl in events_['tl'].fillna(close.index[-1]).iteritems():\n",
    "        df0 = close[loc:tl] # path prices\n",
    "        df0 = (df0 / close[loc] - 1) * events_.at[loc, 'side'] # path returns\n",
    "        out.loc[loc, 'sl'] = df0[df0<sl[loc]].index.min() # earliest stop lost\n",
    "        out.loc[loc, 'pt'] = df0[df0>pt[loc]].index.min() # earliest profit taking\n",
    "    \n",
    "    return out\n",
    "    "
   ]
  },
  {
   "cell_type": "markdown",
   "metadata": {},
   "source": [
    "### First Barrier Touched"
   ]
  },
  {
   "cell_type": "code",
   "execution_count": null,
   "metadata": {},
   "outputs": [],
   "source": []
  }
 ],
 "metadata": {
  "kernelspec": {
   "display_name": "Python 3",
   "language": "python",
   "name": "python3"
  },
  "language_info": {
   "codemirror_mode": {
    "name": "ipython",
    "version": 3
   },
   "file_extension": ".py",
   "mimetype": "text/x-python",
   "name": "python",
   "nbconvert_exporter": "python",
   "pygments_lexer": "ipython3",
   "version": "3.6.4"
  }
 },
 "nbformat": 4,
 "nbformat_minor": 2
}
