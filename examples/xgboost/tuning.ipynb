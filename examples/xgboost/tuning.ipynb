{
 "cells": [
  {
   "cell_type": "markdown",
   "metadata": {},
   "source": [
    "### Import Libraries"
   ]
  },
  {
   "cell_type": "code",
   "execution_count": 1,
   "metadata": {},
   "outputs": [],
   "source": [
    "import numpy as np\n",
    "\n",
    "from xgboost.sklearn import XGBClassifier\n",
    "from sklearn.grid_search import GridSearchCV, RandomizedSearchCV\n",
    "from sklearn.datasets import make_classification\n",
    "from sklearn.cross_validation import StratifiedKFold\n",
    "\n",
    "from scipy.stats import randint, uniform"
   ]
  },
  {
   "cell_type": "markdown",
   "metadata": {},
   "source": [
    "### Set Random Seed"
   ]
  },
  {
   "cell_type": "code",
   "execution_count": 3,
   "metadata": {},
   "outputs": [],
   "source": [
    "seed = 342\n",
    "np.random.seed(seed)"
   ]
  },
  {
   "cell_type": "markdown",
   "metadata": {},
   "source": [
    "### Prepare Data"
   ]
  },
  {
   "cell_type": "code",
   "execution_count": 4,
   "metadata": {},
   "outputs": [],
   "source": [
    "X, y = make_classification(\n",
    "    n_samples=1000,\n",
    "    n_features=20,\n",
    "    n_informative=8,\n",
    "    n_classes=3,\n",
    "    n_redundant=3,\n",
    "    n_repeated=2,\n",
    "    shuffle=True,\n",
    "    random_state=seed)"
   ]
  },
  {
   "cell_type": "markdown",
   "metadata": {},
   "source": [
    "## Select Params to Tune"
   ]
  },
  {
   "cell_type": "markdown",
   "metadata": {},
   "source": [
    "### Tree Booster\n",
    "\n",
    "**eta**=[0 .. 0.3 .. 1] - step shrinkage used in update to prevents overfitting. After each boosting step eta shrinks instance weights. Lower value makes learning process more conservative (slower learning)\n",
    "\n",
    "**gamma**=[0 .. ∞] - minimum loss reduction required to make a further partition on a leaf node of the tree. Higher value makes the algorithm more conservative\n",
    "\n",
    "**max_depth**=[1 .. 6 .. ∞] - maximum depth of each tree\n",
    "\n",
    "**min_child_weight**=[0 .. 1 .. ∞] - minimum sum of instance weight needed in a tree node. Further partitioning from that node is abandoned when a sum is not obtained. Higher value makes the algorithm more conservative\n",
    "\n",
    "**max_delta_step**=[0 .. ∞] - maximum delta step we allow each tree’s weight estimation to be. If the value is set to 0, it means there is no constraint. If it is set to a positive value it can help making the update step more conservative\n",
    "\n",
    "**subsample**=[0,1] - subsample ratio of randomly selected training instances used to grow trees\n",
    "\n",
    "**colsample_bytree**=[0,1] - subsample ratio of columns when construction each tree\n",
    "\n",
    "**lambda**=[1] - L2 regularization term on weights\n",
    "\n",
    "**alpha**=[0] - L1 regularization term on weights"
   ]
  },
  {
   "cell_type": "code",
   "execution_count": 8,
   "metadata": {},
   "outputs": [],
   "source": [
    "params_fixed = {\n",
    "    'objective': 'binary:logistic',\n",
    "    'silent': 1\n",
    "}"
   ]
  },
  {
   "cell_type": "code",
   "execution_count": 9,
   "metadata": {},
   "outputs": [],
   "source": [
    "params_dist_grid = {\n",
    "    'max_depth': [1, 2, 3, 4],\n",
    "    'gamma': [0, 0.5, 1],\n",
    "    'n_estimators': randint(1, 1001), # uniform discrete random distribution\n",
    "    'learning_rate': uniform(), # guassian distribution\n",
    "    'subsample': uniform(), # guassian distribution\n",
    "    'colsample_bytree': uniform()\n",
    "}"
   ]
  },
  {
   "cell_type": "markdown",
   "metadata": {},
   "source": [
    "### Train and Tune"
   ]
  },
  {
   "cell_type": "code",
   "execution_count": 6,
   "metadata": {},
   "outputs": [],
   "source": [
    "cv = StratifiedKFold(y, n_folds=10, shuffle=True, random_state=True)"
   ]
  },
  {
   "cell_type": "code",
   "execution_count": 10,
   "metadata": {},
   "outputs": [],
   "source": [
    "rs_grid = RandomizedSearchCV(\n",
    "    estimator=XGBClassifier(**params_fixed, seed=seed),\n",
    "    param_distributions=params_dist_grid,\n",
    "    n_iter=10,\n",
    "    cv=cv,\n",
    "    scoring='accuracy',\n",
    "    random_state=seed\n",
    ")"
   ]
  },
  {
   "cell_type": "code",
   "execution_count": 11,
   "metadata": {},
   "outputs": [
    {
     "data": {
      "text/plain": [
       "RandomizedSearchCV(cv=sklearn.cross_validation.StratifiedKFold(labels=[2 2 ... 0 2], n_folds=10, shuffle=True, random_state=True),\n",
       "          error_score='raise',\n",
       "          estimator=XGBClassifier(base_score=0.5, booster='gbtree', colsample_bylevel=1,\n",
       "       colsample_bytree=1, gamma=0, learning_rate=0.1, max_delta_step=0,\n",
       "       max_depth=3, min_child_weight=1, missing=None, n_estimators=100,\n",
       "       n_jobs=1, nthread=None, objective='binary:logistic', random_state=0,\n",
       "       reg_alpha=0, reg_lambda=1, scale_pos_weight=1, seed=342, silent=1,\n",
       "       subsample=1),\n",
       "          fit_params={}, iid=True, n_iter=10, n_jobs=1,\n",
       "          param_distributions={'max_depth': [1, 2, 3, 4], 'gamma': [0, 0.5, 1], 'n_estimators': <scipy.stats._distn_infrastructure.rv_frozen object at 0x000001A694D7DC18>, 'learning_rate': <scipy.stats._distn_infrastructure.rv_frozen object at 0x000001A694D7DA20>, 'subsample': <scipy.stats._distn_infrastructure.rv_frozen object at 0x000001A694D7D6D8>, 'colsample_bytree': <scipy.stats._distn_infrastructure.rv_frozen object at 0x000001A694D7D1D0>},\n",
       "          pre_dispatch='2*n_jobs', random_state=342, refit=True,\n",
       "          scoring='accuracy', verbose=0)"
      ]
     },
     "execution_count": 11,
     "metadata": {},
     "output_type": "execute_result"
    }
   ],
   "source": [
    "rs_grid.fit(X, y)"
   ]
  },
  {
   "cell_type": "code",
   "execution_count": 12,
   "metadata": {},
   "outputs": [
    {
     "data": {
      "text/plain": [
       "[mean: 0.47300, std: 0.05105, params: {'colsample_bytree': 0.06503439684192913, 'gamma': 0, 'learning_rate': 0.82231421953113, 'max_depth': 3, 'n_estimators': 492, 'subsample': 0.11676744056370758},\n",
       " mean: 0.62900, std: 0.05771, params: {'colsample_bytree': 0.11848249237448605, 'gamma': 1, 'learning_rate': 0.13214054942810016, 'max_depth': 1, 'n_estimators': 689, 'subsample': 0.4325346125891868},\n",
       " mean: 0.67000, std: 0.05170, params: {'colsample_bytree': 0.37621772642449514, 'gamma': 0, 'learning_rate': 0.610870226429942, 'max_depth': 4, 'n_estimators': 392, 'subsample': 0.1523931947190449},\n",
       " mean: 0.61000, std: 0.05442, params: {'colsample_bytree': 0.20992824607318106, 'gamma': 1, 'learning_rate': 0.4089849433509952, 'max_depth': 1, 'n_estimators': 574, 'subsample': 0.7099300190073073},\n",
       " mean: 0.70000, std: 0.03058, params: {'colsample_bytree': 0.22187963515640408, 'gamma': 1, 'learning_rate': 0.829247179484142, 'max_depth': 2, 'n_estimators': 116, 'subsample': 0.936106086335447},\n",
       " mean: 0.76900, std: 0.04462, params: {'colsample_bytree': 0.8058014316376573, 'gamma': 0, 'learning_rate': 0.4636309538821305, 'max_depth': 4, 'n_estimators': 281, 'subsample': 0.7652628330253548},\n",
       " mean: 0.70000, std: 0.06062, params: {'colsample_bytree': 0.4649668429588838, 'gamma': 1, 'learning_rate': 0.005635524386628399, 'max_depth': 4, 'n_estimators': 563, 'subsample': 0.1047221390561941},\n",
       " mean: 0.57700, std: 0.05534, params: {'colsample_bytree': 0.501367277763467, 'gamma': 0.5, 'learning_rate': 0.3230969290299295, 'max_depth': 1, 'n_estimators': 918, 'subsample': 0.7032684089769419},\n",
       " mean: 0.66800, std: 0.06115, params: {'colsample_bytree': 0.32232842572609355, 'gamma': 1, 'learning_rate': 0.8785724635247983, 'max_depth': 4, 'n_estimators': 665, 'subsample': 0.40219949856580106},\n",
       " mean: 0.67700, std: 0.03238, params: {'colsample_bytree': 0.6570581357409769, 'gamma': 1, 'learning_rate': 0.44206350002617856, 'max_depth': 3, 'n_estimators': 771, 'subsample': 0.18284845802969663}]"
      ]
     },
     "execution_count": 12,
     "metadata": {},
     "output_type": "execute_result"
    }
   ],
   "source": [
    "rs_grid.grid_scores_"
   ]
  },
  {
   "cell_type": "code",
   "execution_count": 13,
   "metadata": {},
   "outputs": [
    {
     "data": {
      "text/plain": [
       "XGBClassifier(base_score=0.5, booster='gbtree', colsample_bylevel=1,\n",
       "       colsample_bytree=0.8058014316376573, gamma=0,\n",
       "       learning_rate=0.4636309538821305, max_delta_step=0, max_depth=4,\n",
       "       min_child_weight=1, missing=None, n_estimators=281, n_jobs=1,\n",
       "       nthread=None, objective='multi:softprob', random_state=0,\n",
       "       reg_alpha=0, reg_lambda=1, scale_pos_weight=1, seed=342, silent=1,\n",
       "       subsample=0.7652628330253548)"
      ]
     },
     "execution_count": 13,
     "metadata": {},
     "output_type": "execute_result"
    }
   ],
   "source": [
    "rs_grid.best_estimator_"
   ]
  },
  {
   "cell_type": "code",
   "execution_count": 14,
   "metadata": {},
   "outputs": [
    {
     "data": {
      "text/plain": [
       "{'colsample_bytree': 0.8058014316376573,\n",
       " 'gamma': 0,\n",
       " 'learning_rate': 0.4636309538821305,\n",
       " 'max_depth': 4,\n",
       " 'n_estimators': 281,\n",
       " 'subsample': 0.7652628330253548}"
      ]
     },
     "execution_count": 14,
     "metadata": {},
     "output_type": "execute_result"
    }
   ],
   "source": [
    "rs_grid.best_params_"
   ]
  },
  {
   "cell_type": "code",
   "execution_count": 15,
   "metadata": {},
   "outputs": [
    {
     "data": {
      "text/plain": [
       "0.769"
      ]
     },
     "execution_count": 15,
     "metadata": {},
     "output_type": "execute_result"
    }
   ],
   "source": [
    "rs_grid.best_score_"
   ]
  },
  {
   "cell_type": "markdown",
   "metadata": {},
   "source": [
    "### Going Forward\n",
    "- think about the number of models that will be created before starting a param search\n",
    "- iteratively repeat searches refining the search space each time"
   ]
  },
  {
   "cell_type": "code",
   "execution_count": null,
   "metadata": {},
   "outputs": [],
   "source": []
  }
 ],
 "metadata": {
  "kernelspec": {
   "display_name": "Python 3",
   "language": "python",
   "name": "python3"
  },
  "language_info": {
   "codemirror_mode": {
    "name": "ipython",
    "version": 3
   },
   "file_extension": ".py",
   "mimetype": "text/x-python",
   "name": "python",
   "nbconvert_exporter": "python",
   "pygments_lexer": "ipython3",
   "version": "3.6.4"
  }
 },
 "nbformat": 4,
 "nbformat_minor": 2
}
